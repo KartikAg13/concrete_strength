{
 "cells": [
  {
   "cell_type": "markdown",
   "metadata": {},
   "source": [
    "# Concrete Strength Prediction\n",
    "\n",
    "Predicting the strength of concrete's compressive strength using Random Forest and XGBoost and taking the weighted average of the predictions."
   ]
  },
  {
   "cell_type": "markdown",
   "metadata": {},
   "source": [
    "## 1. Import the Libraries\n",
    "\n",
    "Import the required libraries."
   ]
  },
  {
   "cell_type": "code",
   "execution_count": 1,
   "metadata": {},
   "outputs": [],
   "source": [
    "# Import libraries like scikit-learn and xgboost\n",
    "import numpy as np\n",
    "import pandas as pd\n",
    "import matplotlib.pyplot as plt\n",
    "\n",
    "from sklearn.model_selection import train_test_split\n",
    "from sklearn.ensemble import RandomForestRegressor\n",
    "from sklearn.metrics import mean_squared_error, r2_score\n",
    "\n",
    "import xgboost as xgb"
   ]
  },
  {
   "cell_type": "markdown",
   "metadata": {},
   "source": [
    "## 2. Prepare the Data\n",
    "\n",
    "Load the dataset from Kaggle and convert into numpy array, further splitting for training and testing."
   ]
  },
  {
   "cell_type": "code",
   "execution_count": 2,
   "metadata": {},
   "outputs": [
    {
     "data": {
      "text/html": [
       "<div>\n",
       "<style scoped>\n",
       "    .dataframe tbody tr th:only-of-type {\n",
       "        vertical-align: middle;\n",
       "    }\n",
       "\n",
       "    .dataframe tbody tr th {\n",
       "        vertical-align: top;\n",
       "    }\n",
       "\n",
       "    .dataframe thead th {\n",
       "        text-align: right;\n",
       "    }\n",
       "</style>\n",
       "<table border=\"1\" class=\"dataframe\">\n",
       "  <thead>\n",
       "    <tr style=\"text-align: right;\">\n",
       "      <th></th>\n",
       "      <th>cement</th>\n",
       "      <th>blast_furnace_slag</th>\n",
       "      <th>fly_ash</th>\n",
       "      <th>water</th>\n",
       "      <th>superplasticizer</th>\n",
       "      <th>coarse_aggregate</th>\n",
       "      <th>fine_aggregate</th>\n",
       "      <th>age</th>\n",
       "      <th>concrete_compressive_strength</th>\n",
       "    </tr>\n",
       "  </thead>\n",
       "  <tbody>\n",
       "    <tr>\n",
       "      <th>0</th>\n",
       "      <td>540.0</td>\n",
       "      <td>0.0</td>\n",
       "      <td>0.0</td>\n",
       "      <td>162.0</td>\n",
       "      <td>2.5</td>\n",
       "      <td>1040.0</td>\n",
       "      <td>676.0</td>\n",
       "      <td>28</td>\n",
       "      <td>79.99</td>\n",
       "    </tr>\n",
       "    <tr>\n",
       "      <th>1</th>\n",
       "      <td>540.0</td>\n",
       "      <td>0.0</td>\n",
       "      <td>0.0</td>\n",
       "      <td>162.0</td>\n",
       "      <td>2.5</td>\n",
       "      <td>1055.0</td>\n",
       "      <td>676.0</td>\n",
       "      <td>28</td>\n",
       "      <td>61.89</td>\n",
       "    </tr>\n",
       "    <tr>\n",
       "      <th>2</th>\n",
       "      <td>332.5</td>\n",
       "      <td>142.5</td>\n",
       "      <td>0.0</td>\n",
       "      <td>228.0</td>\n",
       "      <td>0.0</td>\n",
       "      <td>932.0</td>\n",
       "      <td>594.0</td>\n",
       "      <td>270</td>\n",
       "      <td>40.27</td>\n",
       "    </tr>\n",
       "    <tr>\n",
       "      <th>3</th>\n",
       "      <td>332.5</td>\n",
       "      <td>142.5</td>\n",
       "      <td>0.0</td>\n",
       "      <td>228.0</td>\n",
       "      <td>0.0</td>\n",
       "      <td>932.0</td>\n",
       "      <td>594.0</td>\n",
       "      <td>365</td>\n",
       "      <td>41.05</td>\n",
       "    </tr>\n",
       "    <tr>\n",
       "      <th>4</th>\n",
       "      <td>198.6</td>\n",
       "      <td>132.4</td>\n",
       "      <td>0.0</td>\n",
       "      <td>192.0</td>\n",
       "      <td>0.0</td>\n",
       "      <td>978.4</td>\n",
       "      <td>825.5</td>\n",
       "      <td>360</td>\n",
       "      <td>44.30</td>\n",
       "    </tr>\n",
       "  </tbody>\n",
       "</table>\n",
       "</div>"
      ],
      "text/plain": [
       "   cement  blast_furnace_slag  fly_ash  water  superplasticizer  \\\n",
       "0   540.0                 0.0      0.0  162.0               2.5   \n",
       "1   540.0                 0.0      0.0  162.0               2.5   \n",
       "2   332.5               142.5      0.0  228.0               0.0   \n",
       "3   332.5               142.5      0.0  228.0               0.0   \n",
       "4   198.6               132.4      0.0  192.0               0.0   \n",
       "\n",
       "   coarse_aggregate  fine_aggregate   age  concrete_compressive_strength  \n",
       "0            1040.0            676.0   28                          79.99  \n",
       "1            1055.0            676.0   28                          61.89  \n",
       "2             932.0            594.0  270                          40.27  \n",
       "3             932.0            594.0  365                          41.05  \n",
       "4             978.4            825.5  360                          44.30  "
      ]
     },
     "execution_count": 2,
     "metadata": {},
     "output_type": "execute_result"
    }
   ],
   "source": [
    "# Load the dataset\n",
    "data = pd.read_csv('concrete_data.csv')\n",
    "data.head()"
   ]
  },
  {
   "cell_type": "code",
   "execution_count": 3,
   "metadata": {},
   "outputs": [],
   "source": [
    "# Split into training and testing\n",
    "x_data = data.drop(columns = ['concrete_compressive_strength'])\n",
    "y_data = data['concrete_compressive_strength']\n",
    "\n",
    "x_train, x_test, y_train, y_test = train_test_split(x_data, y_data, test_size = 0.2)"
   ]
  },
  {
   "cell_type": "code",
   "execution_count": 4,
   "metadata": {},
   "outputs": [
    {
     "name": "stdout",
     "output_type": "stream",
     "text": [
      "Shape of the training data: (824, 8)\n",
      "Length of the test data: 206\n"
     ]
    }
   ],
   "source": [
    "# Check the shape and length of the data\n",
    "shape = x_train.shape\n",
    "length = len(y_test)\n",
    "\n",
    "print(f\"Shape of the training data: {shape}\")\n",
    "print(f\"Length of the test data: {length}\")"
   ]
  },
  {
   "cell_type": "markdown",
   "metadata": {},
   "source": [
    "## 3. Random Forest\n",
    "\n",
    "* **RandomForestRegressor()**: Ensemble learning method using multiple decision trees for regression tasks.\n",
    "\n",
    "* **n_estimators = 100**: Number of decision trees to build in the forest.\n",
    "\n",
    "* **max_depth = 10**: Maximum depth allowed for each decision tree; controls over fitting.\n",
    "\n",
    "* **random_state = 50**: Seed for random number generator; ensures reproducible results.\n",
    "\n",
    "* **fit(x_train, y_train)**: Trains the model using the training dataset.\n",
    "\n",
    "* **predict(x_test)**: Uses the trained model to predict outcomes for new data."
   ]
  },
  {
   "cell_type": "code",
   "execution_count": 6,
   "metadata": {},
   "outputs": [
    {
     "name": "stdout",
     "output_type": "stream",
     "text": [
      "Mean Squared Error for Random Forest: 28.642464225462177\n",
      "R2 Score for Random Forest: 0.8921593099111299\n"
     ]
    }
   ],
   "source": [
    "rf_regressor = RandomForestRegressor(n_estimators = 100, max_depth = 10, random_state = 50)\n",
    "rf_regressor.fit(x_train, y_train)\n",
    "\n",
    "y_predicted_rf = rf_regressor.predict(x_test)\n",
    "\n",
    "# Mean Squared Error and R2 Score for Random Forest Regressor\n",
    "mse_rf = mean_squared_error(y_test, y_predicted_rf)\n",
    "r2_rf = r2_score(y_test, y_predicted_rf)\n",
    "print(f\"Mean Squared Error for Random Forest: {mse_rf}\")\n",
    "print(f\"R2 Score for Random Forest: {r2_rf}\")"
   ]
  },
  {
   "cell_type": "markdown",
   "metadata": {},
   "source": [
    "## 4. XGBoost\n",
    "\n",
    "* **XGBRegressor()**: XGBoost's implementation for regression using gradient boosting.\n",
    "\n",
    "* **n_estimators = 100**: Number of boosting rounds or trees to build.\n",
    "\n",
    "* **learning_rate = 0.1**: Controls the step size for weight updates."
   ]
  },
  {
   "cell_type": "code",
   "execution_count": 5,
   "metadata": {},
   "outputs": [
    {
     "name": "stdout",
     "output_type": "stream",
     "text": [
      "Mean Squared Error for XGBoost: 23.195420131304797\n",
      "R2 Score for XGBoost: 0.9126677755736704\n"
     ]
    }
   ],
   "source": [
    "xgb_regressor = xgb.XGBRegressor(n_estimators = 100, learning_rate = 0.1, max_depth = 5, random_state = 50)\n",
    "xgb_regressor.fit(x_train, y_train)\n",
    "\n",
    "y_predicted_xgb = xgb_regressor.predict(x_test)\n",
    "\n",
    "# Mean Squared Error and R2 Score for XGBoost Regressor\n",
    "mse_xgb = mean_squared_error(y_test, y_predicted_xgb)\n",
    "r2_xgb = r2_score(y_test, y_predicted_xgb)\n",
    "print(f\"Mean Squared Error for XGBoost: {mse_xgb}\")\n",
    "print(f\"R2 Score for XGBoost: {r2_xgb}\")"
   ]
  },
  {
   "cell_type": "markdown",
   "metadata": {},
   "source": [
    "## 5. Weighted Average\n",
    "\n",
    "Set weights for each ensemble to balance them for better prediction."
   ]
  },
  {
   "cell_type": "code",
   "execution_count": 13,
   "metadata": {},
   "outputs": [],
   "source": [
    "# Define weight of each ensemble\n",
    "w_rf = 0.09\n",
    "w_xgb = 0.91\n",
    "\n",
    "# Final predicted value\n",
    "y_predicted = (w_rf * y_predicted_rf) + (w_xgb * y_predicted_xgb)"
   ]
  },
  {
   "cell_type": "markdown",
   "metadata": {},
   "source": [
    "## 6. Evaluate the model\n",
    "\n",
    "* **mse_final = mean_squared_error(y_test, y_predicted)**: Measures the average squared difference between actual and predicted values; lower values indicate better performance.\n",
    "\n",
    "* **r2_score(y_test, y_predicted)**: Indicates the proportion of variance explained by the model."
   ]
  },
  {
   "cell_type": "code",
   "execution_count": 14,
   "metadata": {},
   "outputs": [
    {
     "name": "stdout",
     "output_type": "stream",
     "text": [
      "Mean Squared Error: 23.138735271095737\n",
      "R2 Score: 0.9128811976589497\n"
     ]
    }
   ],
   "source": [
    "mse_final = mean_squared_error(y_test, y_predicted)\n",
    "r2_final = r2_score(y_test, y_predicted)\n",
    "\n",
    "print(f\"Mean Squared Error: {mse_final}\")\n",
    "print(f\"R2 Score: {r2_final}\")"
   ]
  }
 ],
 "metadata": {
  "kernelspec": {
   "display_name": "Python 3",
   "language": "python",
   "name": "python3"
  },
  "language_info": {
   "codemirror_mode": {
    "name": "ipython",
    "version": 3
   },
   "file_extension": ".py",
   "mimetype": "text/x-python",
   "name": "python",
   "nbconvert_exporter": "python",
   "pygments_lexer": "ipython3",
   "version": "3.12.7"
  }
 },
 "nbformat": 4,
 "nbformat_minor": 2
}
